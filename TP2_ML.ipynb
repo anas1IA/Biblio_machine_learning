{
 "cells": [
  {
   "cell_type": "markdown",
   "id": "530934e4-dbac-4297-9b64-11d7b53cbcdc",
   "metadata": {},
   "source": [
    "# TP2: Linear regression and logistic regression"
   ]
  },
  {
   "cell_type": "markdown",
   "id": "7a0e0a16-0136-497e-b880-acb25d6bb55c",
   "metadata": {},
   "source": [
    " "
   ]
  },
  {
   "cell_type": "code",
   "execution_count": 1,
   "id": "bde79ac4-5603-47da-b4fa-10d05e678aa5",
   "metadata": {},
   "outputs": [],
   "source": [
    "# import libraries\n",
    "import numpy as np\n",
    "import matplotlib.pyplot as plt\n",
    "import pandas as pd"
   ]
  },
  {
   "cell_type": "markdown",
   "id": "9f05d4f2-5c11-4ec6-b3bd-ec7a264de71f",
   "metadata": {},
   "source": [
    "### Define important functions : "
   ]
  },
  {
   "cell_type": "code",
   "execution_count": 2,
   "id": "15fd3ca9-731d-41ea-bf27-0299cf7d0346",
   "metadata": {},
   "outputs": [],
   "source": [
    "# hypothesis : \n",
    "def hs(w, xi):\n",
    "    return np.dot(w, xi)"
   ]
  },
  {
   "cell_type": "code",
   "execution_count": 94,
   "id": "aae7f221-bee3-48fa-9050-5ee04f12fa93",
   "metadata": {},
   "outputs": [],
   "source": [
    "# Quadratic loss function :\n",
    "def Ls(w, X, y):\n",
    "    return (1/len(X))*np.array([(hs(w, xi) - y[i])**2 for i, xi in enumerate(X)]).sum()"
   ]
  },
  {
   "cell_type": "code",
   "execution_count": 49,
   "id": "2aecb13f-b1ae-405b-a50e-da843ba9a42d",
   "metadata": {},
   "outputs": [],
   "source": [
    "# Gradient of Loss function :\n",
    "def gradLs(w, X, y):\n",
    "    return (1/len(X)**2)*np.array([xi*(hs(w, xi) - y[i]) for i, xi in enumerate(X)]).sum(axis=0)"
   ]
  },
  {
   "cell_type": "code",
   "execution_count": 164,
   "id": "30975c48-2a6f-45a3-9436-5fc14bd612bb",
   "metadata": {},
   "outputs": [],
   "source": [
    "#implimenation sigmoit function\n",
    "def sigmoid(x):\n",
    "  return 1/(1+np.exp(-x))"
   ]
  },
  {
   "cell_type": "code",
   "execution_count": 181,
   "id": "510802e4-67dc-4727-967e-4e1487683c98",
   "metadata": {},
   "outputs": [],
   "source": [
    "def Ls_log_reg(w, X, y):\n",
    "  return (1/len(X))*np.sum([-np.log(sigmoid(y[i]*hs(w,xi))) for i, xi in enumerate(X)])"
   ]
  },
  {
   "cell_type": "code",
   "execution_count": 193,
   "id": "22e36da4-d5d6-4933-a990-445590faf4af",
   "metadata": {},
   "outputs": [],
   "source": [
    "def gradLs_log_reg(w, X, y):\n",
    "  return (1/len(X)) * np.array([-sigmoid(-y[i]*hs(w,xi))*y[i]*xi for i, xi in enumerate(X)]).sum(axis=0)"
   ]
  },
  {
   "cell_type": "code",
   "execution_count": 186,
   "id": "e764f690-678a-4717-a5de-2c0c8020c9cc",
   "metadata": {},
   "outputs": [],
   "source": [
    "def _prepare_data(X, y, nor = False,bn=False):\n",
    "    Xp = np.copy(X)\n",
    "    if Xp.ndim == 1:\n",
    "        Xp = Xp.reshape((-1, 1)) \n",
    "    if nor:\n",
    "        Xp = ((Xp - Xp.mean(axis=0))/Xp.std(axis=0))\n",
    "    Xp = np.hstack((np.ones((len(Xp), 1)), Xp))\n",
    "    if bn:\n",
    "        yp = np.where(y==0, -1, 1)\n",
    "    else:\n",
    "        yp = np.copy(y)\n",
    "    return Xp, yp"
   ]
  },
  {
   "cell_type": "code",
   "execution_count": 187,
   "id": "b30c1ae2-139d-4f2e-8c03-7180813f22b9",
   "metadata": {},
   "outputs": [],
   "source": [
    "# this function plot data using scatters and line that fit this data :\n",
    "def plot_data_and_line(X, y, w=None):\n",
    "    fig, ax = plt.subplots()\n",
    "    \n",
    "    min_x0 = np.amin(X)\n",
    "    max_x1 = np.amax(X)\n",
    "    \n",
    "    ax.scatter(X, y, marker=\"o\")\n",
    "\n",
    "    if w is not None:\n",
    "        x = np.linspace(min_x0, max_x1, 100)\n",
    "        y = w[1] * x + w[0]\n",
    "        ax.plot(x, y)"
   ]
  },
  {
   "cell_type": "code",
   "execution_count": 202,
   "id": "8643a752-73e6-485f-8aed-8326a35e4834",
   "metadata": {},
   "outputs": [],
   "source": [
    "def score_lg_reg(w, X, y):\n",
    "    y_pred = np.where(sigmoid(hs(X, w)) > 0.5, 1,-1)\n",
    "    return (1/len(X)) * np.array(list(map(lambda x, y : 0 if x==y else 1, y_pred, y))).sum()"
   ]
  },
  {
   "cell_type": "markdown",
   "id": "8ebbb5c7-678e-4eb5-b890-2de92180b36a",
   "metadata": {},
   "source": [
    "## Exercise 1: Unidimensional Linear Regression\n"
   ]
  },
  {
   "cell_type": "markdown",
   "id": "7ed94a04-3e26-4bb4-9874-6785bc8218b4",
   "metadata": {},
   "source": [
    "#### 1. load data set"
   ]
  },
  {
   "cell_type": "code",
   "execution_count": 143,
   "id": "99c670ad-6d3b-4b04-aa2b-c018c98fe039",
   "metadata": {},
   "outputs": [],
   "source": [
    "df = pd.read_csv(\"./datasets/mycar.csv\")"
   ]
  },
  {
   "cell_type": "code",
   "execution_count": 144,
   "id": "ad3ad4f4-b1f1-4706-8f86-a701a8febe15",
   "metadata": {},
   "outputs": [
    {
     "data": {
      "text/html": [
       "<div>\n",
       "<style scoped>\n",
       "    .dataframe tbody tr th:only-of-type {\n",
       "        vertical-align: middle;\n",
       "    }\n",
       "\n",
       "    .dataframe tbody tr th {\n",
       "        vertical-align: top;\n",
       "    }\n",
       "\n",
       "    .dataframe thead th {\n",
       "        text-align: right;\n",
       "    }\n",
       "</style>\n",
       "<table border=\"1\" class=\"dataframe\">\n",
       "  <thead>\n",
       "    <tr style=\"text-align: right;\">\n",
       "      <th></th>\n",
       "      <th>speed</th>\n",
       "      <th>dist</th>\n",
       "    </tr>\n",
       "  </thead>\n",
       "  <tbody>\n",
       "    <tr>\n",
       "      <th>count</th>\n",
       "      <td>50.000000</td>\n",
       "      <td>50.000000</td>\n",
       "    </tr>\n",
       "    <tr>\n",
       "      <th>mean</th>\n",
       "      <td>15.400000</td>\n",
       "      <td>42.980000</td>\n",
       "    </tr>\n",
       "    <tr>\n",
       "      <th>std</th>\n",
       "      <td>5.287644</td>\n",
       "      <td>25.769377</td>\n",
       "    </tr>\n",
       "    <tr>\n",
       "      <th>min</th>\n",
       "      <td>4.000000</td>\n",
       "      <td>2.000000</td>\n",
       "    </tr>\n",
       "    <tr>\n",
       "      <th>25%</th>\n",
       "      <td>12.000000</td>\n",
       "      <td>26.000000</td>\n",
       "    </tr>\n",
       "    <tr>\n",
       "      <th>50%</th>\n",
       "      <td>15.000000</td>\n",
       "      <td>36.000000</td>\n",
       "    </tr>\n",
       "    <tr>\n",
       "      <th>75%</th>\n",
       "      <td>19.000000</td>\n",
       "      <td>56.000000</td>\n",
       "    </tr>\n",
       "    <tr>\n",
       "      <th>max</th>\n",
       "      <td>25.000000</td>\n",
       "      <td>120.000000</td>\n",
       "    </tr>\n",
       "  </tbody>\n",
       "</table>\n",
       "</div>"
      ],
      "text/plain": [
       "           speed        dist\n",
       "count  50.000000   50.000000\n",
       "mean   15.400000   42.980000\n",
       "std     5.287644   25.769377\n",
       "min     4.000000    2.000000\n",
       "25%    12.000000   26.000000\n",
       "50%    15.000000   36.000000\n",
       "75%    19.000000   56.000000\n",
       "max    25.000000  120.000000"
      ]
     },
     "execution_count": 144,
     "metadata": {},
     "output_type": "execute_result"
    }
   ],
   "source": [
    "df.describe()"
   ]
  },
  {
   "cell_type": "code",
   "execution_count": 145,
   "id": "93034c0e-09a4-485e-996f-cc87eb278f0a",
   "metadata": {},
   "outputs": [],
   "source": [
    "data = df.to_numpy()"
   ]
  },
  {
   "cell_type": "code",
   "execution_count": 146,
   "id": "7a99f3b9-90c3-4595-bc5f-e4479d9414de",
   "metadata": {},
   "outputs": [],
   "source": [
    "X_train, y_train = data[:, 0], data[:, 1]"
   ]
  },
  {
   "cell_type": "code",
   "execution_count": 147,
   "id": "3d8fc974-1b28-4451-8a70-85ef27e341bc",
   "metadata": {},
   "outputs": [
    {
     "data": {
      "text/plain": [
       "array([4, 4, 7, 7], dtype=int64)"
      ]
     },
     "execution_count": 147,
     "metadata": {},
     "output_type": "execute_result"
    }
   ],
   "source": [
    "X_train[:4]"
   ]
  },
  {
   "cell_type": "code",
   "execution_count": 148,
   "id": "0dde1258-8304-485f-b8d1-ea1c7db8a167",
   "metadata": {},
   "outputs": [
    {
     "data": {
      "text/plain": [
       "array([ 2, 10,  4, 22], dtype=int64)"
      ]
     },
     "execution_count": 148,
     "metadata": {},
     "output_type": "execute_result"
    }
   ],
   "source": [
    "y_train[:4]"
   ]
  },
  {
   "cell_type": "markdown",
   "id": "3fc59b59-99c5-4a81-9ce7-93bc425de9fa",
   "metadata": {},
   "source": [
    "#### 2. plot dataset :"
   ]
  },
  {
   "cell_type": "code",
   "execution_count": 149,
   "id": "9e491802-a190-4d24-a153-1ba5f9572726",
   "metadata": {},
   "outputs": [
    {
     "data": {
      "image/png": "[encoded data removed]",
      "text/plain": [
       "<Figure size 640x480 with 1 Axes>"
      ]
     },
     "metadata": {},
     "output_type": "display_data"
    }
   ],
   "source": [
    "plot_data_and_line(X_train, y_train)"
   ]
  },
  {
   "cell_type": "markdown",
   "id": "ba4d6f5c-d1a9-4357-92ef-485df2384d73",
   "metadata": {},
   "source": [
    "### Linear Regression Model :"
   ]
  },
  {
   "cell_type": "markdown",
   "id": "6e034a03-774c-45ad-8e5a-d00e96daaa7f",
   "metadata": {},
   "source": [
    "#### Linear regression with algebraic method :"
   ]
  },
  {
   "cell_type": "code",
   "execution_count": 150,
   "id": "50aacb08-06e1-41d6-86a7-4f59627704ea",
   "metadata": {},
   "outputs": [],
   "source": [
    "def LinearRegression(X, y):\n",
    "    Xp, yp = _prepare_data(X,y)\n",
    "    \n",
    "    H = np.dot(Xp.T, Xp)\n",
    "    \n",
    "    H_inv = np.linalg.inv(H)\n",
    "\n",
    "    w = np.dot(np.dot(H_inv, Xp.T), y)\n",
    "\n",
    "    return w, Ls(w, Xp, yp)"
   ]
  },
  {
   "cell_type": "markdown",
   "id": "deac032d-a7e9-4a42-b480-ede9986cad9d",
   "metadata": {},
   "source": [
    "##### Train our model with cars Data : "
   ]
  },
  {
   "cell_type": "code",
   "execution_count": 151,
   "id": "14a8f7c0-6cb6-479c-b191-32772154d42e",
   "metadata": {},
   "outputs": [
    {
     "name": "stdout",
     "output_type": "stream",
     "text": [
      " Optimal parameters w :  [-17.57909489   3.93240876]\n",
      " Loss :  227.07042102189783\n"
     ]
    }
   ],
   "source": [
    "w, loss = LinearRegression(X_train, y_train)\n",
    "print(\" Optimal parameters w : \", w)\n",
    "print(\" Loss : \", loss)"
   ]
  },
  {
   "cell_type": "code",
   "execution_count": 152,
   "id": "51a86eb4-8ea9-4eb6-b4a8-d98b0f2c3ad9",
   "metadata": {},
   "outputs": [
    {
     "data": {
      "image/png": "[encoded data removed]",
      "text/plain": [
       "<Figure size 640x480 with 1 Axes>"
      ]
     },
     "metadata": {},
     "output_type": "display_data"
    }
   ],
   "source": [
    "plot_data_and_line(X_train, y_train, w)"
   ]
  },
  {
   "cell_type": "markdown",
   "id": "104d271f-3f3e-4fa8-a922-ae4b1f351939",
   "metadata": {},
   "source": [
    "#### Linear regression with gredient descent method :"
   ]
  },
  {
   "cell_type": "code",
   "execution_count": 52,
   "id": "489af0fc-1658-4491-a971-9ded076d0d42",
   "metadata": {},
   "outputs": [],
   "source": [
    "def LinearRegressionGD(w0, X, y, Tmax=1000, lr=0.01):\n",
    "    Xp, yp = _prepare_data(X,y)\n",
    "    \n",
    "    w = np.copy(w0)\n",
    "    loss = Ls(w, Xp, yp)\n",
    "    gd = gradLs(w, Xp, yp)\n",
    "    t=0\n",
    "    \n",
    "    while Tmax > t:\n",
    "        w -= lr * gd\n",
    "        loss = Ls(w, Xp, yp)\n",
    "        gd = gradLs(w, Xp, yp)\n",
    "        t+=1\n",
    "\n",
    "    return w, loss, gd"
   ]
  },
  {
   "cell_type": "code",
   "execution_count": 53,
   "id": "b960641b-4b5a-43c2-a592-0c42e2ac02e7",
   "metadata": {},
   "outputs": [],
   "source": [
    "w0 = np.random.random((2,))"
   ]
  },
  {
   "cell_type": "code",
   "execution_count": 58,
   "id": "35447821-b76d-4511-bd29-eddbe6c65ff3",
   "metadata": {},
   "outputs": [
    {
     "name": "stdout",
     "output_type": "stream",
     "text": [
      " Optimal parameters w :  [-15.29122046   3.79917993]\n",
      " Loss :  227.61253589515346\n",
      " grad :  [ 0.00472301 -0.00027503]\n"
     ]
    }
   ],
   "source": [
    "w_gd, loss_gd, gd_gd = LinearRegressionGD(w0,X_train, y_train, Tmax=1e5, lr=0.01)\n",
    "print(\" Optimal parameters w : \", w_gd)\n",
    "print(\" Loss : \", loss_gd)\n",
    "print(\" grad : \", gd_gd)"
   ]
  },
  {
   "cell_type": "code",
   "execution_count": 96,
   "id": "ed948513-028b-4171-af7c-b5068ba6a95f",
   "metadata": {},
   "outputs": [
    {
     "data": {
      "image/png": "[encoded data removed]",
      "text/plain": [
       "<Figure size 640x480 with 1 Axes>"
      ]
     },
     "metadata": {},
     "output_type": "display_data"
    }
   ],
   "source": [
    "plot_data_and_line(X_train, y_train, w_gd)"
   ]
  },
  {
   "cell_type": "markdown",
   "id": "4977ea7d-016e-44a0-9bdf-c0fec988851d",
   "metadata": {},
   "source": [
    "## Exercise 2: Logistic Regression "
   ]
  },
  {
   "cell_type": "markdown",
   "id": "1170bd70-752d-4ccf-b353-8a760742b1d8",
   "metadata": {},
   "source": [
    " #### 1. load data"
   ]
  },
  {
   "cell_type": "code",
   "execution_count": 153,
   "id": "56698c72-bbbd-4f20-8bde-d03624b078c0",
   "metadata": {},
   "outputs": [],
   "source": [
    "binary = pop = pd.read_csv(\"./datasets/binary.csv\").to_numpy()"
   ]
  },
  {
   "cell_type": "markdown",
   "id": "56293515-8f9c-4839-89e8-7e01d5ad2c0b",
   "metadata": {},
   "source": [
    " "
   ]
  },
  {
   "cell_type": "markdown",
   "id": "215d3a0c-6519-4c18-b2a5-181e24391288",
   "metadata": {},
   "source": [
    "#### Logistic regression with gredient descent:"
   ]
  },
  {
   "cell_type": "code",
   "execution_count": 215,
   "id": "3c902fa4-bf77-492e-b0d5-e73a81160acb",
   "metadata": {},
   "outputs": [],
   "source": [
    "def LogisticRegression(w0, X, y, lr=0.01, Tmax=3000, eps=1e-2):\n",
    "\n",
    "  w = np.copy(w0)\n",
    "  t = 0\n",
    "  gd = gradLs_log_reg(w, X, y)\n",
    "  while Tmax > t and np.linalg.norm(gd) > eps:\n",
    "    gd = gd = gradLs_log_reg(w, X, y)\n",
    "    w -= lr *gd\n",
    "    t += 1\n",
    "\n",
    "  return w, Ls_log_reg(w, X, y)"
   ]
  },
  {
   "cell_type": "markdown",
   "id": "e8d671fb-aa2c-42ff-8000-9747be830baf",
   "metadata": {},
   "source": [
    "#### 2. Without Rank feature:"
   ]
  },
  {
   "cell_type": "code",
   "execution_count": 216,
   "id": "ceb0ed7b-a302-4a57-9ea6-fd46e61816f8",
   "metadata": {},
   "outputs": [],
   "source": [
    "X_train, y_train = _prepare_data(binary[:, 1:-1], binary[:, 0], nor=True, bn=True)"
   ]
  },
  {
   "cell_type": "code",
   "execution_count": 217,
   "id": "67d27d80-6ff5-4714-83f4-eb31a14eab0f",
   "metadata": {},
   "outputs": [],
   "source": [
    "w_lg, loss_log = LogisticRegression(np.random.random((3,)), X_train, y_train, Tmax=4000, eps=1e-3)"
   ]
  },
  {
   "cell_type": "code",
   "execution_count": 218,
   "id": "7932e2b1-c76c-4b59-baf8-a52de383d160",
   "metadata": {},
   "outputs": [
    {
     "data": {
      "text/plain": [
       "(array([-0.8056872 ,  0.31232464,  0.28246631]), 0.600433156250922)"
      ]
     },
     "execution_count": 218,
     "metadata": {},
     "output_type": "execute_result"
    }
   ],
   "source": [
    "w_lg, loss_log"
   ]
  },
  {
   "cell_type": "code",
   "execution_count": 219,
   "id": "6d0210f6-b537-414e-a920-b8193569a640",
   "metadata": {},
   "outputs": [
    {
     "data": {
      "text/plain": [
       "0.32"
      ]
     },
     "execution_count": 219,
     "metadata": {},
     "output_type": "execute_result"
    }
   ],
   "source": [
    "score_lg_reg(wl, X_train, y_train)"
   ]
  },
  {
   "cell_type": "markdown",
   "id": "ecb8d46b-b29c-4a87-9e44-079584f43f68",
   "metadata": {},
   "source": [
    "#### 3. with Rank feature:"
   ]
  },
  {
   "cell_type": "code",
   "execution_count": 222,
   "id": "9ca79e77-ccdb-4ece-8117-0eb7c6886bfd",
   "metadata": {},
   "outputs": [],
   "source": [
    "X_train, y_train = _prepare_data(binary[:, 1:], binary[:, 0], nor=True, bn=True)"
   ]
  },
  {
   "cell_type": "code",
   "execution_count": 229,
   "id": "4699cb3f-3d1b-4571-9ff8-2c6b4d99d5ad",
   "metadata": {},
   "outputs": [],
   "source": [
    "w_lg, loss_log = LogisticRegression(np.random.random((4,)), X_train, y_train, Tmax=4000, eps=1e-3)"
   ]
  },
  {
   "cell_type": "code",
   "execution_count": 232,
   "id": "503f8ae7-c510-484c-9057-2fbbfdc5fd82",
   "metadata": {},
   "outputs": [
    {
     "data": {
      "text/plain": [
       "(array([-0.85562951,  0.26793451,  0.29102532, -0.5239613 ]),\n",
       " 0.5743060321046379)"
      ]
     },
     "execution_count": 232,
     "metadata": {},
     "output_type": "execute_result"
    }
   ],
   "source": [
    "w_lg, loss_log"
   ]
  },
  {
   "cell_type": "code",
   "execution_count": 234,
   "id": "28b6a699-144d-4fc9-a99d-7ad8c2637380",
   "metadata": {},
   "outputs": [
    {
     "data": {
      "text/plain": [
       "0.295"
      ]
     },
     "execution_count": 234,
     "metadata": {},
     "output_type": "execute_result"
    }
   ],
   "source": [
    "score_lg_reg(w_lg, X_train, y_train)"
   ]
  },
  {
   "cell_type": "markdown",
   "id": "9f360c35-9051-4463-a617-4c543a02d54c",
   "metadata": {},
   "source": [
    "## Exercise 3: Multidimensional Linear Regression"
   ]
  },
  {
   "cell_type": "markdown",
   "id": "cf1eed27-9929-48e1-b6d1-6b41f3eecb20",
   "metadata": {},
   "source": [
    "#### 1. load data"
   ]
  },
  {
   "cell_type": "code",
   "execution_count": 101,
   "id": "78fb9d2b-533d-40d9-bee8-f023a60cbf4a",
   "metadata": {},
   "outputs": [],
   "source": [
    "pop = pd.read_csv(\"./datasets/pop.csv\").to_numpy()"
   ]
  },
  {
   "cell_type": "markdown",
   "id": "41b908ca-b549-4f85-9d60-9c14a49ef43f",
   "metadata": {},
   "source": [
    "#### 2. split data"
   ]
  },
  {
   "cell_type": "code",
   "execution_count": 104,
   "id": "7dc6dca6-a096-4f76-aff8-2444318ad3f6",
   "metadata": {},
   "outputs": [],
   "source": [
    "X_ptrain, y_ptrain = pop[:,:4], pop[:,4]"
   ]
  },
  {
   "cell_type": "markdown",
   "id": "7fbf82f1-8b9d-473d-8229-b44bac77ca85",
   "metadata": {},
   "source": [
    "#### Train linear regression model :"
   ]
  },
  {
   "cell_type": "code",
   "execution_count": 106,
   "id": "609b2a3c-0179-4b87-b2bb-891cb347d760",
   "metadata": {},
   "outputs": [
    {
     "name": "stdout",
     "output_type": "stream",
     "text": [
      " Optimal parameters w :  [ 1.25881018e+02 -7.65709482e+00 -1.44987066e-01  3.50935890e-02\n",
      "  5.52669494e+00]\n",
      " Loss :  1879.017335841115\n"
     ]
    }
   ],
   "source": [
    "w_p, loss_p = LinearRegression(X_ptrain, y_ptrain)\n",
    "print(\" Optimal parameters w : \", w_p)\n",
    "print(\" Loss : \", loss_p)"
   ]
  },
  {
   "cell_type": "code",
   "execution_count": null,
   "id": "f59405c8-0c5a-4a18-adfc-e76d43a07c03",
   "metadata": {},
   "outputs": [],
   "source": []
  },
  {
   "cell_type": "code",
   "execution_count": null,
   "id": "59d7a321-1685-451d-802b-e254938b87a8",
   "metadata": {},
   "outputs": [],
   "source": []
  }
 ],
 "metadata": {
  "kernelspec": {
   "display_name": "Python 3 (ipykernel)",
   "language": "python",
   "name": "python3"
  },
  "language_info": {
   "codemirror_mode": {
    "name": "ipython",
    "version": 3
   },
   "file_extension": ".py",
   "mimetype": "text/x-python",
   "name": "python",
   "nbconvert_exporter": "python",
   "pygments_lexer": "ipython3",
   "version": "3.11.6"
  }
 },
 "nbformat": 4,
 "nbformat_minor": 5
}

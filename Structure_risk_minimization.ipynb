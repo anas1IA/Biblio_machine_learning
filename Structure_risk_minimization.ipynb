{
  "nbformat": 4,
  "nbformat_minor": 0,
  "metadata": {
    "colab": {
      "provenance": [],
      "authorship_tag": "ABX9TyPfwovaahuPOqEpznpu0xpD",
      "include_colab_link": true
    },
    "kernelspec": {
      "name": "python3",
      "display_name": "Python 3"
    },
    "language_info": {
      "name": "python"
    }
  },
  "cells": [
    {
      "cell_type": "markdown",
      "metadata": {
        "id": "view-in-github",
        "colab_type": "text"
      },
      "source": [
        "<a href=\"https://colab.research.google.com/github/anas1IA/Biblio_machine_learning/blob/main/Structure_risk_minimization.ipynb\" target=\"_parent\"><img src=\"https://colab.research.google.com/assets/colab-badge.svg\" alt=\"Open In Colab\"/></a>"
      ]
    },
    {
      "cell_type": "markdown",
      "source": [
        "## Structure risk minimization ⏰\n",
        " SRM aims to balance the fit of the model to the training data (as measured by the Mean Squared Error, MSE) with the complexity of the model (as measured by the number of parameters, in this case, the degree of the polynomial)."
      ],
      "metadata": {
        "id": "XDgohYgGs9BV"
      }
    },
    {
      "cell_type": "markdown",
      "source": [
        "To summarize, the code performs the following steps:\n",
        "\n",
        "Loop over different polynomial degrees.\n",
        "For each degree, calculate polynomial features, perform linear regression, and calculate the Mean Squared Error (MSE).\n",
        "Compute the MDL term and calculate the total MDL.\n",
        "Update the best model if the total MDL is lower than the current best.\n",
        "Return the weights, degree, and MSE of the best model.\n"
      ],
      "metadata": {
        "id": "E0v3-ZV9tuCh"
      }
    },
    {
      "cell_type": "code",
      "source": [
        "def MDL(X, y, degrees, delta):\n",
        "    m = len(y)\n",
        "    best_degree = None\n",
        "    best_w = None\n",
        "    best_mse = float('inf')\n",
        "\n",
        "    for degree in degrees:\n",
        "        Z = poly_features(degree, X)\n",
        "        A = Z.T @ Z\n",
        "        b = Z.T @ y\n",
        "        A_inverse = np.linalg.inv(A)\n",
        "        w = A_inverse @ b\n",
        "\n",
        "        # Calculate MSE\n",
        "        mse = MSE(Z,y,w)\n",
        "\n",
        "        # Calculate description length\n",
        "        mdl_term = degree + np.log(2/delta) / (2 * m)\n",
        "        total_mdl = mse + np.sqrt(mdl_term)\n",
        "\n",
        "        # Update best parameters if this model has a lower MDL\n",
        "        if total_mdl < best_mse:\n",
        "            best_mse = total_mdl\n",
        "            best_degree = degree\n",
        "            best_w = w\n",
        "\n",
        "    return best_w, best_degree, best_mse"
      ],
      "metadata": {
        "id": "tK-p39xxt3Jy"
      },
      "execution_count": 15,
      "outputs": []
    },
    {
      "cell_type": "code",
      "source": [
        "def poly_features(degree, X):\n",
        "    # Create polynomial features up to the given degree\n",
        "    return np.column_stack([X ** i for i in range(1, degree + 1)])\n"
      ],
      "metadata": {
        "id": "_Zeum5tqrw5Q"
      },
      "execution_count": 16,
      "outputs": []
    },
    {
      "cell_type": "code",
      "source": [
        "def MSE(X, y, w):\n",
        "    # Calculate Mean Squared Error\n",
        "    m = len(y)\n",
        "    predictions = X @ w\n",
        "    mse = np.sum((predictions - y) ** 2)\n",
        "    return mse/ m\n"
      ],
      "metadata": {
        "id": "mAwh-tq_r9e7"
      },
      "execution_count": 17,
      "outputs": []
    },
    {
      "cell_type": "code",
      "source": [
        "import numpy as np\n",
        "\n",
        "# Assuming you have defined the poly_features and MSE functions elsewhere in your code\n",
        "# (Also assuming you have already defined the MDL function)\n",
        "\n",
        "# Example data\n",
        "my_list = [1, 2, 3, 4, 5, 6, 7, 8]\n",
        "X = np.array(my_list)\n",
        "y = np.array([2, 4, 5, 4, 5, 8, 9, 12])  # Replace this with your target values\n",
        "\n",
        "# List of degrees to consider\n",
        "degrees = [1, 2, 3, 4, 5, 6, 7, 8, 9]\n",
        "\n",
        "# Delta parameter\n",
        "delta = 0.05\n",
        "\n",
        "# Call the MDL function\n",
        "best_w, best_degree, best_mse = MDL(X, y, degrees, delta)\n",
        "\n",
        "# Print the results\n",
        "print(\"Best weights:\", best_w)\n",
        "print(\"Best degree:\", best_degree)\n",
        "print(\"Best MSE:\", best_mse)\n"
      ],
      "metadata": {
        "colab": {
          "base_uri": "https://localhost:8080/"
        },
        "id": "HfSNxC2IrlPn",
        "outputId": "772ab833-ca75-4fd5-b3b9-ebc979df19d1"
      },
      "execution_count": 18,
      "outputs": [
        {
          "output_type": "stream",
          "name": "stdout",
          "text": [
            "Best weights: [ 2.77944996 -0.61233766  0.05695187]\n",
            "Best degree: 3\n",
            "Best MSE: 2.204087604369658\n"
          ]
        }
      ]
    }
  ]
}